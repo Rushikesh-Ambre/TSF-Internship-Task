{
  "nbformat": 4,
  "nbformat_minor": 0,
  "metadata": {
    "colab": {
      "name": "Task1_Data_Analytics.ipynb",
      "provenance": [],
      "collapsed_sections": []
    },
    "kernelspec": {
      "name": "python3",
      "display_name": "Python 3"
    },
    "language_info": {
      "name": "python"
    }
  },
  "cells": [
    {
      "cell_type": "markdown",
      "source": [
        "![image.png](data:image/png;base64,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)"
      ],
      "metadata": {
        "id": "BSsHHBxPk7yi"
      }
    },
    {
      "cell_type": "markdown",
      "source": [
        "# **Name : Hrushikesh Balasaheb Ambre**\n",
        "# **Task 1 : Prediction using Supervised ML**\n",
        "## 1) Predict the percentage of a student based on the no. of study hours.\n",
        "## 2) What will be predicted score if a student studies for 9.25 hrs/ day?"
      ],
      "metadata": {
        "id": "Vw0JKDtglFfD"
      }
    },
    {
      "cell_type": "markdown",
      "source": [
        "### **Importing Required Libraries**"
      ],
      "metadata": {
        "id": "l-VA8kXvlYh0"
      }
    },
    {
      "cell_type": "code",
      "source": [
        "import pandas as pd\n",
        "import numpy as np\n",
        "import matplotlib.pyplot as plt \n",
        "import seaborn as sns\n",
        "from sklearn.model_selection import train_test_split\n",
        "from sklearn.linear_model import LinearRegression\n",
        "from sklearn.metrics import mean_absolute_error"
      ],
      "metadata": {
        "id": "8GMWRAA1mKIw"
      },
      "execution_count": 1,
      "outputs": []
    },
    {
      "cell_type": "markdown",
      "source": [
        "### **Importing The DataSet**"
      ],
      "metadata": {
        "id": "egtqYuClmWO9"
      }
    },
    {
      "cell_type": "code",
      "source": [
        "Data = pd.read_csv(\"http://bit.ly/w-data\")"
      ],
      "metadata": {
        "id": "_2RgyHH_mZh1"
      },
      "execution_count": 2,
      "outputs": []
    },
    {
      "cell_type": "markdown",
      "source": [
        "### **Display The Data From The DataSet**"
      ],
      "metadata": {
        "id": "Ce7lenccpu6V"
      }
    },
    {
      "cell_type": "code",
      "source": [
        "Data.head()  # Frist 5 Rows"
      ],
      "metadata": {
        "colab": {
          "base_uri": "https://localhost:8080/",
          "height": 206
        },
        "id": "YXe6fMx-pynM",
        "outputId": "eac0d937-7535-431f-a60d-3ebdd0190024"
      },
      "execution_count": 4,
      "outputs": [
        {
          "output_type": "execute_result",
          "data": {
            "text/html": [
              "\n",
              "  <div id=\"df-4c90121f-ac13-4ffb-ad4f-588a68b3c993\">\n",
              "    <div class=\"colab-df-container\">\n",
              "      <div>\n",
              "<style scoped>\n",
              "    .dataframe tbody tr th:only-of-type {\n",
              "        vertical-align: middle;\n",
              "    }\n",
              "\n",
              "    .dataframe tbody tr th {\n",
              "        vertical-align: top;\n",
              "    }\n",
              "\n",
              "    .dataframe thead th {\n",
              "        text-align: right;\n",
              "    }\n",
              "</style>\n",
              "<table border=\"1\" class=\"dataframe\">\n",
              "  <thead>\n",
              "    <tr style=\"text-align: right;\">\n",
              "      <th></th>\n",
              "      <th>Hours</th>\n",
              "      <th>Scores</th>\n",
              "    </tr>\n",
              "  </thead>\n",
              "  <tbody>\n",
              "    <tr>\n",
              "      <th>0</th>\n",
              "      <td>2.5</td>\n",
              "      <td>21</td>\n",
              "    </tr>\n",
              "    <tr>\n",
              "      <th>1</th>\n",
              "      <td>5.1</td>\n",
              "      <td>47</td>\n",
              "    </tr>\n",
              "    <tr>\n",
              "      <th>2</th>\n",
              "      <td>3.2</td>\n",
              "      <td>27</td>\n",
              "    </tr>\n",
              "    <tr>\n",
              "      <th>3</th>\n",
              "      <td>8.5</td>\n",
              "      <td>75</td>\n",
              "    </tr>\n",
              "    <tr>\n",
              "      <th>4</th>\n",
              "      <td>3.5</td>\n",
              "      <td>30</td>\n",
              "    </tr>\n",
              "  </tbody>\n",
              "</table>\n",
              "</div>\n",
              "      <button class=\"colab-df-convert\" onclick=\"convertToInteractive('df-4c90121f-ac13-4ffb-ad4f-588a68b3c993')\"\n",
              "              title=\"Convert this dataframe to an interactive table.\"\n",
              "              style=\"display:none;\">\n",
              "        \n",
              "  <svg xmlns=\"http://www.w3.org/2000/svg\" height=\"24px\"viewBox=\"0 0 24 24\"\n",
              "       width=\"24px\">\n",
              "    <path d=\"M0 0h24v24H0V0z\" fill=\"none\"/>\n",
              "    <path d=\"M18.56 5.44l.94 2.06.94-2.06 2.06-.94-2.06-.94-.94-2.06-.94 2.06-2.06.94zm-11 1L8.5 8.5l.94-2.06 2.06-.94-2.06-.94L8.5 2.5l-.94 2.06-2.06.94zm10 10l.94 2.06.94-2.06 2.06-.94-2.06-.94-.94-2.06-.94 2.06-2.06.94z\"/><path d=\"M17.41 7.96l-1.37-1.37c-.4-.4-.92-.59-1.43-.59-.52 0-1.04.2-1.43.59L10.3 9.45l-7.72 7.72c-.78.78-.78 2.05 0 2.83L4 21.41c.39.39.9.59 1.41.59.51 0 1.02-.2 1.41-.59l7.78-7.78 2.81-2.81c.8-.78.8-2.07 0-2.86zM5.41 20L4 18.59l7.72-7.72 1.47 1.35L5.41 20z\"/>\n",
              "  </svg>\n",
              "      </button>\n",
              "      \n",
              "  <style>\n",
              "    .colab-df-container {\n",
              "      display:flex;\n",
              "      flex-wrap:wrap;\n",
              "      gap: 12px;\n",
              "    }\n",
              "\n",
              "    .colab-df-convert {\n",
              "      background-color: #E8F0FE;\n",
              "      border: none;\n",
              "      border-radius: 50%;\n",
              "      cursor: pointer;\n",
              "      display: none;\n",
              "      fill: #1967D2;\n",
              "      height: 32px;\n",
              "      padding: 0 0 0 0;\n",
              "      width: 32px;\n",
              "    }\n",
              "\n",
              "    .colab-df-convert:hover {\n",
              "      background-color: #E2EBFA;\n",
              "      box-shadow: 0px 1px 2px rgba(60, 64, 67, 0.3), 0px 1px 3px 1px rgba(60, 64, 67, 0.15);\n",
              "      fill: #174EA6;\n",
              "    }\n",
              "\n",
              "    [theme=dark] .colab-df-convert {\n",
              "      background-color: #3B4455;\n",
              "      fill: #D2E3FC;\n",
              "    }\n",
              "\n",
              "    [theme=dark] .colab-df-convert:hover {\n",
              "      background-color: #434B5C;\n",
              "      box-shadow: 0px 1px 3px 1px rgba(0, 0, 0, 0.15);\n",
              "      filter: drop-shadow(0px 1px 2px rgba(0, 0, 0, 0.3));\n",
              "      fill: #FFFFFF;\n",
              "    }\n",
              "  </style>\n",
              "\n",
              "      <script>\n",
              "        const buttonEl =\n",
              "          document.querySelector('#df-4c90121f-ac13-4ffb-ad4f-588a68b3c993 button.colab-df-convert');\n",
              "        buttonEl.style.display =\n",
              "          google.colab.kernel.accessAllowed ? 'block' : 'none';\n",
              "\n",
              "        async function convertToInteractive(key) {\n",
              "          const element = document.querySelector('#df-4c90121f-ac13-4ffb-ad4f-588a68b3c993');\n",
              "          const dataTable =\n",
              "            await google.colab.kernel.invokeFunction('convertToInteractive',\n",
              "                                                     [key], {});\n",
              "          if (!dataTable) return;\n",
              "\n",
              "          const docLinkHtml = 'Like what you see? Visit the ' +\n",
              "            '<a target=\"_blank\" href=https://colab.research.google.com/notebooks/data_table.ipynb>data table notebook</a>'\n",
              "            + ' to learn more about interactive tables.';\n",
              "          element.innerHTML = '';\n",
              "          dataTable['output_type'] = 'display_data';\n",
              "          await google.colab.output.renderOutput(dataTable, element);\n",
              "          const docLink = document.createElement('div');\n",
              "          docLink.innerHTML = docLinkHtml;\n",
              "          element.appendChild(docLink);\n",
              "        }\n",
              "      </script>\n",
              "    </div>\n",
              "  </div>\n",
              "  "
            ],
            "text/plain": [
              "   Hours  Scores\n",
              "0    2.5      21\n",
              "1    5.1      47\n",
              "2    3.2      27\n",
              "3    8.5      75\n",
              "4    3.5      30"
            ]
          },
          "metadata": {},
          "execution_count": 4
        }
      ]
    },
    {
      "cell_type": "code",
      "source": [
        "Data.tail()  # Last 5 Rows"
      ],
      "metadata": {
        "colab": {
          "base_uri": "https://localhost:8080/",
          "height": 206
        },
        "id": "v66s1U97qI3u",
        "outputId": "a1893f68-c33c-41c9-efbf-e8dfe4e455c4"
      },
      "execution_count": 5,
      "outputs": [
        {
          "output_type": "execute_result",
          "data": {
            "text/html": [
              "\n",
              "  <div id=\"df-021d708a-d9ef-4844-a10a-ef802abea9e6\">\n",
              "    <div class=\"colab-df-container\">\n",
              "      <div>\n",
              "<style scoped>\n",
              "    .dataframe tbody tr th:only-of-type {\n",
              "        vertical-align: middle;\n",
              "    }\n",
              "\n",
              "    .dataframe tbody tr th {\n",
              "        vertical-align: top;\n",
              "    }\n",
              "\n",
              "    .dataframe thead th {\n",
              "        text-align: right;\n",
              "    }\n",
              "</style>\n",
              "<table border=\"1\" class=\"dataframe\">\n",
              "  <thead>\n",
              "    <tr style=\"text-align: right;\">\n",
              "      <th></th>\n",
              "      <th>Hours</th>\n",
              "      <th>Scores</th>\n",
              "    </tr>\n",
              "  </thead>\n",
              "  <tbody>\n",
              "    <tr>\n",
              "      <th>20</th>\n",
              "      <td>2.7</td>\n",
              "      <td>30</td>\n",
              "    </tr>\n",
              "    <tr>\n",
              "      <th>21</th>\n",
              "      <td>4.8</td>\n",
              "      <td>54</td>\n",
              "    </tr>\n",
              "    <tr>\n",
              "      <th>22</th>\n",
              "      <td>3.8</td>\n",
              "      <td>35</td>\n",
              "    </tr>\n",
              "    <tr>\n",
              "      <th>23</th>\n",
              "      <td>6.9</td>\n",
              "      <td>76</td>\n",
              "    </tr>\n",
              "    <tr>\n",
              "      <th>24</th>\n",
              "      <td>7.8</td>\n",
              "      <td>86</td>\n",
              "    </tr>\n",
              "  </tbody>\n",
              "</table>\n",
              "</div>\n",
              "      <button class=\"colab-df-convert\" onclick=\"convertToInteractive('df-021d708a-d9ef-4844-a10a-ef802abea9e6')\"\n",
              "              title=\"Convert this dataframe to an interactive table.\"\n",
              "              style=\"display:none;\">\n",
              "        \n",
              "  <svg xmlns=\"http://www.w3.org/2000/svg\" height=\"24px\"viewBox=\"0 0 24 24\"\n",
              "       width=\"24px\">\n",
              "    <path d=\"M0 0h24v24H0V0z\" fill=\"none\"/>\n",
              "    <path d=\"M18.56 5.44l.94 2.06.94-2.06 2.06-.94-2.06-.94-.94-2.06-.94 2.06-2.06.94zm-11 1L8.5 8.5l.94-2.06 2.06-.94-2.06-.94L8.5 2.5l-.94 2.06-2.06.94zm10 10l.94 2.06.94-2.06 2.06-.94-2.06-.94-.94-2.06-.94 2.06-2.06.94z\"/><path d=\"M17.41 7.96l-1.37-1.37c-.4-.4-.92-.59-1.43-.59-.52 0-1.04.2-1.43.59L10.3 9.45l-7.72 7.72c-.78.78-.78 2.05 0 2.83L4 21.41c.39.39.9.59 1.41.59.51 0 1.02-.2 1.41-.59l7.78-7.78 2.81-2.81c.8-.78.8-2.07 0-2.86zM5.41 20L4 18.59l7.72-7.72 1.47 1.35L5.41 20z\"/>\n",
              "  </svg>\n",
              "      </button>\n",
              "      \n",
              "  <style>\n",
              "    .colab-df-container {\n",
              "      display:flex;\n",
              "      flex-wrap:wrap;\n",
              "      gap: 12px;\n",
              "    }\n",
              "\n",
              "    .colab-df-convert {\n",
              "      background-color: #E8F0FE;\n",
              "      border: none;\n",
              "      border-radius: 50%;\n",
              "      cursor: pointer;\n",
              "      display: none;\n",
              "      fill: #1967D2;\n",
              "      height: 32px;\n",
              "      padding: 0 0 0 0;\n",
              "      width: 32px;\n",
              "    }\n",
              "\n",
              "    .colab-df-convert:hover {\n",
              "      background-color: #E2EBFA;\n",
              "      box-shadow: 0px 1px 2px rgba(60, 64, 67, 0.3), 0px 1px 3px 1px rgba(60, 64, 67, 0.15);\n",
              "      fill: #174EA6;\n",
              "    }\n",
              "\n",
              "    [theme=dark] .colab-df-convert {\n",
              "      background-color: #3B4455;\n",
              "      fill: #D2E3FC;\n",
              "    }\n",
              "\n",
              "    [theme=dark] .colab-df-convert:hover {\n",
              "      background-color: #434B5C;\n",
              "      box-shadow: 0px 1px 3px 1px rgba(0, 0, 0, 0.15);\n",
              "      filter: drop-shadow(0px 1px 2px rgba(0, 0, 0, 0.3));\n",
              "      fill: #FFFFFF;\n",
              "    }\n",
              "  </style>\n",
              "\n",
              "      <script>\n",
              "        const buttonEl =\n",
              "          document.querySelector('#df-021d708a-d9ef-4844-a10a-ef802abea9e6 button.colab-df-convert');\n",
              "        buttonEl.style.display =\n",
              "          google.colab.kernel.accessAllowed ? 'block' : 'none';\n",
              "\n",
              "        async function convertToInteractive(key) {\n",
              "          const element = document.querySelector('#df-021d708a-d9ef-4844-a10a-ef802abea9e6');\n",
              "          const dataTable =\n",
              "            await google.colab.kernel.invokeFunction('convertToInteractive',\n",
              "                                                     [key], {});\n",
              "          if (!dataTable) return;\n",
              "\n",
              "          const docLinkHtml = 'Like what you see? Visit the ' +\n",
              "            '<a target=\"_blank\" href=https://colab.research.google.com/notebooks/data_table.ipynb>data table notebook</a>'\n",
              "            + ' to learn more about interactive tables.';\n",
              "          element.innerHTML = '';\n",
              "          dataTable['output_type'] = 'display_data';\n",
              "          await google.colab.output.renderOutput(dataTable, element);\n",
              "          const docLink = document.createElement('div');\n",
              "          docLink.innerHTML = docLinkHtml;\n",
              "          element.appendChild(docLink);\n",
              "        }\n",
              "      </script>\n",
              "    </div>\n",
              "  </div>\n",
              "  "
            ],
            "text/plain": [
              "    Hours  Scores\n",
              "20    2.7      30\n",
              "21    4.8      54\n",
              "22    3.8      35\n",
              "23    6.9      76\n",
              "24    7.8      86"
            ]
          },
          "metadata": {},
          "execution_count": 5
        }
      ]
    },
    {
      "cell_type": "code",
      "source": [
        "Data.shape"
      ],
      "metadata": {
        "colab": {
          "base_uri": "https://localhost:8080/"
        },
        "id": "LOkLZnPpqf79",
        "outputId": "41445691-232c-40c8-bfbb-f47c56b3b034"
      },
      "execution_count": 6,
      "outputs": [
        {
          "output_type": "execute_result",
          "data": {
            "text/plain": [
              "(25, 2)"
            ]
          },
          "metadata": {},
          "execution_count": 6
        }
      ]
    },
    {
      "cell_type": "code",
      "source": [
        "Data.describe() # able to see mathematical insights of data."
      ],
      "metadata": {
        "colab": {
          "base_uri": "https://localhost:8080/",
          "height": 300
        },
        "id": "kFJFQHVrqt4c",
        "outputId": "b942da98-a598-4baf-a407-d5c04bed1416"
      },
      "execution_count": 7,
      "outputs": [
        {
          "output_type": "execute_result",
          "data": {
            "text/html": [
              "\n",
              "  <div id=\"df-e6076bf8-b9b3-4c27-8324-29abd46cffd9\">\n",
              "    <div class=\"colab-df-container\">\n",
              "      <div>\n",
              "<style scoped>\n",
              "    .dataframe tbody tr th:only-of-type {\n",
              "        vertical-align: middle;\n",
              "    }\n",
              "\n",
              "    .dataframe tbody tr th {\n",
              "        vertical-align: top;\n",
              "    }\n",
              "\n",
              "    .dataframe thead th {\n",
              "        text-align: right;\n",
              "    }\n",
              "</style>\n",
              "<table border=\"1\" class=\"dataframe\">\n",
              "  <thead>\n",
              "    <tr style=\"text-align: right;\">\n",
              "      <th></th>\n",
              "      <th>Hours</th>\n",
              "      <th>Scores</th>\n",
              "    </tr>\n",
              "  </thead>\n",
              "  <tbody>\n",
              "    <tr>\n",
              "      <th>count</th>\n",
              "      <td>25.000000</td>\n",
              "      <td>25.000000</td>\n",
              "    </tr>\n",
              "    <tr>\n",
              "      <th>mean</th>\n",
              "      <td>5.012000</td>\n",
              "      <td>51.480000</td>\n",
              "    </tr>\n",
              "    <tr>\n",
              "      <th>std</th>\n",
              "      <td>2.525094</td>\n",
              "      <td>25.286887</td>\n",
              "    </tr>\n",
              "    <tr>\n",
              "      <th>min</th>\n",
              "      <td>1.100000</td>\n",
              "      <td>17.000000</td>\n",
              "    </tr>\n",
              "    <tr>\n",
              "      <th>25%</th>\n",
              "      <td>2.700000</td>\n",
              "      <td>30.000000</td>\n",
              "    </tr>\n",
              "    <tr>\n",
              "      <th>50%</th>\n",
              "      <td>4.800000</td>\n",
              "      <td>47.000000</td>\n",
              "    </tr>\n",
              "    <tr>\n",
              "      <th>75%</th>\n",
              "      <td>7.400000</td>\n",
              "      <td>75.000000</td>\n",
              "    </tr>\n",
              "    <tr>\n",
              "      <th>max</th>\n",
              "      <td>9.200000</td>\n",
              "      <td>95.000000</td>\n",
              "    </tr>\n",
              "  </tbody>\n",
              "</table>\n",
              "</div>\n",
              "      <button class=\"colab-df-convert\" onclick=\"convertToInteractive('df-e6076bf8-b9b3-4c27-8324-29abd46cffd9')\"\n",
              "              title=\"Convert this dataframe to an interactive table.\"\n",
              "              style=\"display:none;\">\n",
              "        \n",
              "  <svg xmlns=\"http://www.w3.org/2000/svg\" height=\"24px\"viewBox=\"0 0 24 24\"\n",
              "       width=\"24px\">\n",
              "    <path d=\"M0 0h24v24H0V0z\" fill=\"none\"/>\n",
              "    <path d=\"M18.56 5.44l.94 2.06.94-2.06 2.06-.94-2.06-.94-.94-2.06-.94 2.06-2.06.94zm-11 1L8.5 8.5l.94-2.06 2.06-.94-2.06-.94L8.5 2.5l-.94 2.06-2.06.94zm10 10l.94 2.06.94-2.06 2.06-.94-2.06-.94-.94-2.06-.94 2.06-2.06.94z\"/><path d=\"M17.41 7.96l-1.37-1.37c-.4-.4-.92-.59-1.43-.59-.52 0-1.04.2-1.43.59L10.3 9.45l-7.72 7.72c-.78.78-.78 2.05 0 2.83L4 21.41c.39.39.9.59 1.41.59.51 0 1.02-.2 1.41-.59l7.78-7.78 2.81-2.81c.8-.78.8-2.07 0-2.86zM5.41 20L4 18.59l7.72-7.72 1.47 1.35L5.41 20z\"/>\n",
              "  </svg>\n",
              "      </button>\n",
              "      \n",
              "  <style>\n",
              "    .colab-df-container {\n",
              "      display:flex;\n",
              "      flex-wrap:wrap;\n",
              "      gap: 12px;\n",
              "    }\n",
              "\n",
              "    .colab-df-convert {\n",
              "      background-color: #E8F0FE;\n",
              "      border: none;\n",
              "      border-radius: 50%;\n",
              "      cursor: pointer;\n",
              "      display: none;\n",
              "      fill: #1967D2;\n",
              "      height: 32px;\n",
              "      padding: 0 0 0 0;\n",
              "      width: 32px;\n",
              "    }\n",
              "\n",
              "    .colab-df-convert:hover {\n",
              "      background-color: #E2EBFA;\n",
              "      box-shadow: 0px 1px 2px rgba(60, 64, 67, 0.3), 0px 1px 3px 1px rgba(60, 64, 67, 0.15);\n",
              "      fill: #174EA6;\n",
              "    }\n",
              "\n",
              "    [theme=dark] .colab-df-convert {\n",
              "      background-color: #3B4455;\n",
              "      fill: #D2E3FC;\n",
              "    }\n",
              "\n",
              "    [theme=dark] .colab-df-convert:hover {\n",
              "      background-color: #434B5C;\n",
              "      box-shadow: 0px 1px 3px 1px rgba(0, 0, 0, 0.15);\n",
              "      filter: drop-shadow(0px 1px 2px rgba(0, 0, 0, 0.3));\n",
              "      fill: #FFFFFF;\n",
              "    }\n",
              "  </style>\n",
              "\n",
              "      <script>\n",
              "        const buttonEl =\n",
              "          document.querySelector('#df-e6076bf8-b9b3-4c27-8324-29abd46cffd9 button.colab-df-convert');\n",
              "        buttonEl.style.display =\n",
              "          google.colab.kernel.accessAllowed ? 'block' : 'none';\n",
              "\n",
              "        async function convertToInteractive(key) {\n",
              "          const element = document.querySelector('#df-e6076bf8-b9b3-4c27-8324-29abd46cffd9');\n",
              "          const dataTable =\n",
              "            await google.colab.kernel.invokeFunction('convertToInteractive',\n",
              "                                                     [key], {});\n",
              "          if (!dataTable) return;\n",
              "\n",
              "          const docLinkHtml = 'Like what you see? Visit the ' +\n",
              "            '<a target=\"_blank\" href=https://colab.research.google.com/notebooks/data_table.ipynb>data table notebook</a>'\n",
              "            + ' to learn more about interactive tables.';\n",
              "          element.innerHTML = '';\n",
              "          dataTable['output_type'] = 'display_data';\n",
              "          await google.colab.output.renderOutput(dataTable, element);\n",
              "          const docLink = document.createElement('div');\n",
              "          docLink.innerHTML = docLinkHtml;\n",
              "          element.appendChild(docLink);\n",
              "        }\n",
              "      </script>\n",
              "    </div>\n",
              "  </div>\n",
              "  "
            ],
            "text/plain": [
              "           Hours     Scores\n",
              "count  25.000000  25.000000\n",
              "mean    5.012000  51.480000\n",
              "std     2.525094  25.286887\n",
              "min     1.100000  17.000000\n",
              "25%     2.700000  30.000000\n",
              "50%     4.800000  47.000000\n",
              "75%     7.400000  75.000000\n",
              "max     9.200000  95.000000"
            ]
          },
          "metadata": {},
          "execution_count": 7
        }
      ]
    },
    {
      "cell_type": "markdown",
      "source": [
        "### **Summeryof the Dataset**"
      ],
      "metadata": {
        "id": "oncIIX6mq30c"
      }
    },
    {
      "cell_type": "code",
      "source": [
        "Data.info()"
      ],
      "metadata": {
        "colab": {
          "base_uri": "https://localhost:8080/"
        },
        "id": "3K6Tep8VqwBW",
        "outputId": "5402e298-ce06-4248-bdb4-bd216de1ed7d"
      },
      "execution_count": 8,
      "outputs": [
        {
          "output_type": "stream",
          "name": "stdout",
          "text": [
            "<class 'pandas.core.frame.DataFrame'>\n",
            "RangeIndex: 25 entries, 0 to 24\n",
            "Data columns (total 2 columns):\n",
            " #   Column  Non-Null Count  Dtype  \n",
            "---  ------  --------------  -----  \n",
            " 0   Hours   25 non-null     float64\n",
            " 1   Scores  25 non-null     int64  \n",
            "dtypes: float64(1), int64(1)\n",
            "memory usage: 528.0 bytes\n"
          ]
        }
      ]
    },
    {
      "cell_type": "markdown",
      "source": [
        "### **Check if there any null value in the Dataset**"
      ],
      "metadata": {
        "id": "P8XXc7c2q7Kd"
      }
    },
    {
      "cell_type": "code",
      "source": [
        "Data.isnull == True"
      ],
      "metadata": {
        "colab": {
          "base_uri": "https://localhost:8080/"
        },
        "id": "dmDMuwnyrMZ0",
        "outputId": "13d65c92-a3c2-4d0e-a809-10122d9f3ab8"
      },
      "execution_count": 9,
      "outputs": [
        {
          "output_type": "execute_result",
          "data": {
            "text/plain": [
              "False"
            ]
          },
          "metadata": {},
          "execution_count": 9
        }
      ]
    },
    {
      "cell_type": "markdown",
      "source": [
        "**Our Dataset has 25 rows and 2 columns and has no null Values.**"
      ],
      "metadata": {
        "id": "A6USYQbarUpT"
      }
    },
    {
      "cell_type": "markdown",
      "source": [
        "### **Visualization of Data**"
      ],
      "metadata": {
        "id": "FDSpQOTNree8"
      }
    },
    {
      "cell_type": "code",
      "source": [
        "#Plotting the distribution of scores\n",
        "sns.set_style('darkgrid')\n",
        "sns.scatterplot(y= Data['Scores'], x= Data['Hours'], hue= Data['Scores']) \n",
        "plt.title('Hours vs Percentage', size=25)  \n",
        "plt.xlabel('Hours Studied', size=15)  \n",
        "plt.ylabel('Percentage Score', size=15)  \n",
        "plt.show()"
      ],
      "metadata": {
        "colab": {
          "base_uri": "https://localhost:8080/",
          "height": 309
        },
        "id": "wAiVwl7SrwMU",
        "outputId": "a5d927ad-4fce-4606-90c0-195648b23506"
      },
      "execution_count": 19,
      "outputs": [
        {
          "output_type": "display_data",
          "data": {
            "image/png": "[encoded data removed]",
            "text/plain": [
              "<Figure size 432x288 with 1 Axes>"
            ]
          },
          "metadata": {}
        }
      ]
    },
    {
      "cell_type": "markdown",
      "source": [
        "**From the above scatter plot there looks to be correlation between the 'Marks Percentage' and 'Hours Studied', Lets plot a regression line to confirm the correlation.**"
      ],
      "metadata": {
        "id": "YXJwLdMo0bux"
      }
    },
    {
      "cell_type": "markdown",
      "source": [
        "## **Linear Regression Model**\n",
        "Now we prepare the data and split it in test data"
      ],
      "metadata": {
        "id": "BEf4rmneySvX"
      }
    },
    {
      "cell_type": "code",
      "source": [
        "#Splitting training and testing data\n",
        "x=Data.iloc[:,:-1].values\n",
        "y=Data.iloc[:,1].values\n"
      ],
      "metadata": {
        "id": "c2KILBUJyhR8"
      },
      "execution_count": 20,
      "outputs": []
    },
    {
      "cell_type": "markdown",
      "source": [
        "**The split of data into the training and test sets is very important as in this time we will be using Scikit Learn's builtin method of train_test_split()**"
      ],
      "metadata": {
        "id": "wywkAiCNy2UW"
      }
    },
    {
      "cell_type": "markdown",
      "source": [
        "## **Train the Algoritham**"
      ],
      "metadata": {
        "id": "sFRLGuz_zuTY"
      }
    },
    {
      "cell_type": "markdown",
      "source": [
        "### **1) Splitting the Data**"
      ],
      "metadata": {
        "id": "sSuPhyDizgcw"
      }
    },
    {
      "cell_type": "code",
      "source": [
        "from sklearn.model_selection import train_test_split\n",
        "x_train, x_test, y_train, y_test= train_test_split(x, y,train_size=0.80,test_size=0.20,random_state=0)"
      ],
      "metadata": {
        "id": "BwR8iqvDy7cD"
      },
      "execution_count": 21,
      "outputs": []
    },
    {
      "cell_type": "markdown",
      "source": [
        "### **2) Fitting the Data into the model**"
      ],
      "metadata": {
        "id": "s8Rz__EazHAy"
      }
    },
    {
      "cell_type": "code",
      "source": [
        "from sklearn.linear_model import LinearRegression\n",
        "regression = LinearRegression()\n",
        "regression.fit(x_train, y_train)\n",
        "print(\"---------Model Trained---------\")"
      ],
      "metadata": {
        "colab": {
          "base_uri": "https://localhost:8080/"
        },
        "id": "IRjy_4LYzT1A",
        "outputId": "a82ce009-3566-4c96-afc1-f0c8c99c5380"
      },
      "execution_count": 24,
      "outputs": [
        {
          "output_type": "stream",
          "name": "stdout",
          "text": [
            "---------Model Trained---------\n"
          ]
        }
      ]
    },
    {
      "cell_type": "markdown",
      "source": [
        "### **Plotting the regression line**"
      ],
      "metadata": {
        "id": "bwOMsvYv0lpQ"
      }
    },
    {
      "cell_type": "code",
      "source": [
        "line = regression.coef_*x+regression.intercept_\n",
        "plt.scatter(x, y, color=\"red\")\n",
        "plt.plot(x, line, color=\"green\")\n",
        "plt.xlabel(\"Hours\", fontsize= 15)\n",
        "plt.ylabel(\"Scores\", fontsize= 15)\n",
        "plt.show()"
      ],
      "metadata": {
        "colab": {
          "base_uri": "https://localhost:8080/",
          "height": 284
        },
        "id": "x3mCE2at0pdQ",
        "outputId": "5d65ee10-3a99-42b9-953f-89b9448a7cd2"
      },
      "execution_count": 36,
      "outputs": [
        {
          "output_type": "display_data",
          "data": {
            "image/png": "[encoded data removed]",
            "text/plain": [
              "<Figure size 432x288 with 1 Axes>"
            ]
          },
          "metadata": {}
        }
      ]
    },
    {
      "cell_type": "markdown",
      "source": [
        "### **Predicting The Scores For The Model**"
      ],
      "metadata": {
        "id": "YpGvAaH83wUI"
      }
    },
    {
      "cell_type": "code",
      "source": [
        "print(x_test)   \n",
        "y_pred = regression.predict(x_test) "
      ],
      "metadata": {
        "colab": {
          "base_uri": "https://localhost:8080/"
        },
        "id": "A0UprFS13vYo",
        "outputId": "df035a52-e262-43a6-c7ca-e44290fdee17"
      },
      "execution_count": 38,
      "outputs": [
        {
          "output_type": "stream",
          "name": "stdout",
          "text": [
            "[[1.5]\n",
            " [3.2]\n",
            " [7.4]\n",
            " [2.5]\n",
            " [5.9]]\n"
          ]
        }
      ]
    },
    {
      "cell_type": "markdown",
      "source": [
        "### **Comparing the Predicted Marks with the Actual Marks**"
      ],
      "metadata": {
        "id": "SecXJgPR4Wy_"
      }
    },
    {
      "cell_type": "code",
      "source": [
        "compare_scores = pd.DataFrame({'Actual Marks': y_test, 'Predicted Marks': y_pred})    \n",
        "compare_scores"
      ],
      "metadata": {
        "colab": {
          "base_uri": "https://localhost:8080/",
          "height": 206
        },
        "id": "sEQRwi3q4b3I",
        "outputId": "8b851de2-4e88-4415-db62-967e7c4445b6"
      },
      "execution_count": 40,
      "outputs": [
        {
          "output_type": "execute_result",
          "data": {
            "text/html": [
              "\n",
              "  <div id=\"df-3ef23cbd-a6f2-4b09-a024-33084d386aa7\">\n",
              "    <div class=\"colab-df-container\">\n",
              "      <div>\n",
              "<style scoped>\n",
              "    .dataframe tbody tr th:only-of-type {\n",
              "        vertical-align: middle;\n",
              "    }\n",
              "\n",
              "    .dataframe tbody tr th {\n",
              "        vertical-align: top;\n",
              "    }\n",
              "\n",
              "    .dataframe thead th {\n",
              "        text-align: right;\n",
              "    }\n",
              "</style>\n",
              "<table border=\"1\" class=\"dataframe\">\n",
              "  <thead>\n",
              "    <tr style=\"text-align: right;\">\n",
              "      <th></th>\n",
              "      <th>Actual Marks</th>\n",
              "      <th>Predicted Marks</th>\n",
              "    </tr>\n",
              "  </thead>\n",
              "  <tbody>\n",
              "    <tr>\n",
              "      <th>0</th>\n",
              "      <td>20</td>\n",
              "      <td>16.884145</td>\n",
              "    </tr>\n",
              "    <tr>\n",
              "      <th>1</th>\n",
              "      <td>27</td>\n",
              "      <td>33.732261</td>\n",
              "    </tr>\n",
              "    <tr>\n",
              "      <th>2</th>\n",
              "      <td>69</td>\n",
              "      <td>75.357018</td>\n",
              "    </tr>\n",
              "    <tr>\n",
              "      <th>3</th>\n",
              "      <td>30</td>\n",
              "      <td>26.794801</td>\n",
              "    </tr>\n",
              "    <tr>\n",
              "      <th>4</th>\n",
              "      <td>62</td>\n",
              "      <td>60.491033</td>\n",
              "    </tr>\n",
              "  </tbody>\n",
              "</table>\n",
              "</div>\n",
              "      <button class=\"colab-df-convert\" onclick=\"convertToInteractive('df-3ef23cbd-a6f2-4b09-a024-33084d386aa7')\"\n",
              "              title=\"Convert this dataframe to an interactive table.\"\n",
              "              style=\"display:none;\">\n",
              "        \n",
              "  <svg xmlns=\"http://www.w3.org/2000/svg\" height=\"24px\"viewBox=\"0 0 24 24\"\n",
              "       width=\"24px\">\n",
              "    <path d=\"M0 0h24v24H0V0z\" fill=\"none\"/>\n",
              "    <path d=\"M18.56 5.44l.94 2.06.94-2.06 2.06-.94-2.06-.94-.94-2.06-.94 2.06-2.06.94zm-11 1L8.5 8.5l.94-2.06 2.06-.94-2.06-.94L8.5 2.5l-.94 2.06-2.06.94zm10 10l.94 2.06.94-2.06 2.06-.94-2.06-.94-.94-2.06-.94 2.06-2.06.94z\"/><path d=\"M17.41 7.96l-1.37-1.37c-.4-.4-.92-.59-1.43-.59-.52 0-1.04.2-1.43.59L10.3 9.45l-7.72 7.72c-.78.78-.78 2.05 0 2.83L4 21.41c.39.39.9.59 1.41.59.51 0 1.02-.2 1.41-.59l7.78-7.78 2.81-2.81c.8-.78.8-2.07 0-2.86zM5.41 20L4 18.59l7.72-7.72 1.47 1.35L5.41 20z\"/>\n",
              "  </svg>\n",
              "      </button>\n",
              "      \n",
              "  <style>\n",
              "    .colab-df-container {\n",
              "      display:flex;\n",
              "      flex-wrap:wrap;\n",
              "      gap: 12px;\n",
              "    }\n",
              "\n",
              "    .colab-df-convert {\n",
              "      background-color: #E8F0FE;\n",
              "      border: none;\n",
              "      border-radius: 50%;\n",
              "      cursor: pointer;\n",
              "      display: none;\n",
              "      fill: #1967D2;\n",
              "      height: 32px;\n",
              "      padding: 0 0 0 0;\n",
              "      width: 32px;\n",
              "    }\n",
              "\n",
              "    .colab-df-convert:hover {\n",
              "      background-color: #E2EBFA;\n",
              "      box-shadow: 0px 1px 2px rgba(60, 64, 67, 0.3), 0px 1px 3px 1px rgba(60, 64, 67, 0.15);\n",
              "      fill: #174EA6;\n",
              "    }\n",
              "\n",
              "    [theme=dark] .colab-df-convert {\n",
              "      background-color: #3B4455;\n",
              "      fill: #D2E3FC;\n",
              "    }\n",
              "\n",
              "    [theme=dark] .colab-df-convert:hover {\n",
              "      background-color: #434B5C;\n",
              "      box-shadow: 0px 1px 3px 1px rgba(0, 0, 0, 0.15);\n",
              "      filter: drop-shadow(0px 1px 2px rgba(0, 0, 0, 0.3));\n",
              "      fill: #FFFFFF;\n",
              "    }\n",
              "  </style>\n",
              "\n",
              "      <script>\n",
              "        const buttonEl =\n",
              "          document.querySelector('#df-3ef23cbd-a6f2-4b09-a024-33084d386aa7 button.colab-df-convert');\n",
              "        buttonEl.style.display =\n",
              "          google.colab.kernel.accessAllowed ? 'block' : 'none';\n",
              "\n",
              "        async function convertToInteractive(key) {\n",
              "          const element = document.querySelector('#df-3ef23cbd-a6f2-4b09-a024-33084d386aa7');\n",
              "          const dataTable =\n",
              "            await google.colab.kernel.invokeFunction('convertToInteractive',\n",
              "                                                     [key], {});\n",
              "          if (!dataTable) return;\n",
              "\n",
              "          const docLinkHtml = 'Like what you see? Visit the ' +\n",
              "            '<a target=\"_blank\" href=https://colab.research.google.com/notebooks/data_table.ipynb>data table notebook</a>'\n",
              "            + ' to learn more about interactive tables.';\n",
              "          element.innerHTML = '';\n",
              "          dataTable['output_type'] = 'display_data';\n",
              "          await google.colab.output.renderOutput(dataTable, element);\n",
              "          const docLink = document.createElement('div');\n",
              "          docLink.innerHTML = docLinkHtml;\n",
              "          element.appendChild(docLink);\n",
              "        }\n",
              "      </script>\n",
              "    </div>\n",
              "  </div>\n",
              "  "
            ],
            "text/plain": [
              "   Actual Marks  Predicted Marks\n",
              "0            20        16.884145\n",
              "1            27        33.732261\n",
              "2            69        75.357018\n",
              "3            30        26.794801\n",
              "4            62        60.491033"
            ]
          },
          "metadata": {},
          "execution_count": 40
        }
      ]
    },
    {
      "cell_type": "markdown",
      "source": [
        "### **Checking the accuracy scores for training and test set**"
      ],
      "metadata": {
        "id": "MAH5TxaF4wxn"
      }
    },
    {
      "cell_type": "code",
      "source": [
        "print('Test Score')\n",
        "print(regression.score(x_test, y_test))\n",
        "print('Training Score')\n",
        "print(regression.score(x_train, y_train))"
      ],
      "metadata": {
        "colab": {
          "base_uri": "https://localhost:8080/"
        },
        "id": "s9ClbXEq5QU2",
        "outputId": "048c1f52-7334-4c08-881e-cb424ec4bf31"
      },
      "execution_count": 42,
      "outputs": [
        {
          "output_type": "stream",
          "name": "stdout",
          "text": [
            "Test Score\n",
            "0.9454906892105354\n",
            "Training Score\n",
            "0.9515510725211552\n"
          ]
        }
      ]
    },
    {
      "cell_type": "markdown",
      "source": [
        "### **Accuracy Of The Model**"
      ],
      "metadata": {
        "id": "Vrr_LLEt5npc"
      }
    },
    {
      "cell_type": "code",
      "source": [
        "from sklearn import metrics\n",
        "metrics.r2_score(y_test,y_pred)"
      ],
      "metadata": {
        "colab": {
          "base_uri": "https://localhost:8080/"
        },
        "id": "kx5Z7a765gY9",
        "outputId": "14ac1c59-7c53-4b89-88b8-79550aa1836c"
      },
      "execution_count": 43,
      "outputs": [
        {
          "output_type": "execute_result",
          "data": {
            "text/plain": [
              "0.9454906892105354"
            ]
          },
          "metadata": {},
          "execution_count": 43
        }
      ]
    },
    {
      "cell_type": "markdown",
      "source": [
        "## **Accuracy Of The Model 94%**"
      ],
      "metadata": {
        "id": "5AYndmjz8nmd"
      }
    },
    {
      "cell_type": "markdown",
      "source": [
        "### **Visually Comparing the Predicted Marks with the Actual Marks**"
      ],
      "metadata": {
        "id": "2csODczi5xqz"
      }
    },
    {
      "cell_type": "markdown",
      "source": [
        ""
      ],
      "metadata": {
        "id": "1FmgSosB8vzJ"
      }
    },
    {
      "cell_type": "code",
      "source": [
        "plt.scatter(x=x_test, y=y_test, color='blue')\n",
        "plt.plot(x_test, y_pred, color='Black')\n",
        "plt.title('Actual vs Predicted', size=25)\n",
        "plt.ylabel('Marks Percentage', size=15)\n",
        "plt.xlabel('Hours Studied', size=15)\n",
        "plt.show()"
      ],
      "metadata": {
        "colab": {
          "base_uri": "https://localhost:8080/",
          "height": 309
        },
        "id": "4u2zZJif6zk8",
        "outputId": "bd9175ce-c625-4166-f128-7630ae4ff911"
      },
      "execution_count": 48,
      "outputs": [
        {
          "output_type": "display_data",
          "data": {
            "image/png": "[encoded data removed]",
            "text/plain": [
              "<Figure size 432x288 with 1 Axes>"
            ]
          },
          "metadata": {}
        }
      ]
    },
    {
      "cell_type": "markdown",
      "source": [
        "### **Predict the score for 9.25 hours**"
      ],
      "metadata": {
        "id": "G4xgDzoD8YEe"
      }
    },
    {
      "cell_type": "code",
      "source": [
        "hours = [9.25]\n",
        "answer = regression.predict([hours])\n",
        "print(\"Score = {}\".format(round(answer[0],3)))"
      ],
      "metadata": {
        "colab": {
          "base_uri": "https://localhost:8080/"
        },
        "id": "f3kRmV3I8Co2",
        "outputId": "15b6c008-a820-435e-f05b-0a6f80eb45c4"
      },
      "execution_count": 53,
      "outputs": [
        {
          "output_type": "stream",
          "name": "stdout",
          "text": [
            "Score = 93.692\n"
          ]
        }
      ]
    },
    {
      "cell_type": "markdown",
      "source": [
        "# **CONCLUSION**"
      ],
      "metadata": {
        "id": "IgJjmSuI80Ye"
      }
    },
    {
      "cell_type": "markdown",
      "source": [
        "## **According to the regression model if a student studies for 9.25 hours a day he/she is likely to score 93.693 marks.**"
      ],
      "metadata": {
        "id": "XEsEDQOX86Hp"
      }
    }
  ]
}